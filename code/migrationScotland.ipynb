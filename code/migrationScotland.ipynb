{
 "cells": [
  {
   "cell_type": "markdown",
   "metadata": {},
   "source": [
    "#### Introduction\n",
    "In the jupyter notebook, we have analysed a larger data set containing 35,000 records. We conducted similar analysis on this dataset like we did on the census dataset. We cleaned up the data using regular expressions and removed any duplicate rows. Using scatter plots, we try to analyse migration patterns in Scotland and by the use of a 3D plot we tried to analyse migration patterns in Scotland by region and over time. "
   ]
  },
  {
   "cell_type": "code",
   "execution_count": null,
   "metadata": {},
   "outputs": [],
   "source": [
    "import pandas as pd \n",
    "import matplotlib.pyplot as plt\n",
    "%matplotlib inline"
   ]
  },
  {
   "cell_type": "markdown",
   "metadata": {},
   "source": [
    "The additional data set downloaded from https://statistics.gov.scot/resource?uri=http%3A%2F%2Fstatistics.gov.scot%2Fdata%2Fnet-migration "
   ]
  },
  {
   "cell_type": "code",
   "execution_count": null,
   "metadata": {},
   "outputs": [],
   "source": [
    "df = pd.read_csv(\"../data/migrationScotland.csv\")\n",
    "df"
   ]
  },
  {
   "cell_type": "markdown",
   "metadata": {},
   "source": [
    "The data is cleaned up below. This process is similar to the census2011 data set. The regular expressions have been modified in the cleanupMigrationScotland.py file. The refined data is stored in a new csv file in the data/ folder"
   ]
  },
  {
   "cell_type": "code",
   "execution_count": null,
   "metadata": {},
   "outputs": [],
   "source": [
    "from cleanupMigrationScotland import cleanup\n",
    "\n",
    "df_refined = cleanup(df, \"../data/migrationScotland_refined.csv\")"
   ]
  },
  {
   "cell_type": "markdown",
   "metadata": {},
   "source": [
    "The refined dataset replaces the original dataset below"
   ]
  },
  {
   "cell_type": "code",
   "execution_count": null,
   "metadata": {},
   "outputs": [],
   "source": [
    "df = df_refined\n",
    "df"
   ]
  },
  {
   "cell_type": "markdown",
   "metadata": {},
   "source": [
    "Descriptive Statistics of the migration in scotland data set\n"
   ]
  },
  {
   "cell_type": "markdown",
   "metadata": {},
   "source": [
    "counting the records in the data set"
   ]
  },
  {
   "cell_type": "code",
   "execution_count": null,
   "metadata": {},
   "outputs": [],
   "source": [
    "len(df.index)"
   ]
  },
  {
   "cell_type": "markdown",
   "metadata": {},
   "source": [
    "different types of data in the dataframe"
   ]
  },
  {
   "cell_type": "code",
   "execution_count": null,
   "metadata": {},
   "outputs": [],
   "source": [
    "df.dtypes"
   ]
  },
  {
   "cell_type": "code",
   "execution_count": null,
   "metadata": {},
   "outputs": [],
   "source": [
    "# loop through the dataframe to display unique values and occurences for each column\n",
    "for column in df:\n",
    "        print (column)\n",
    "        occ = df[column].value_counts()\n",
    "        print (occ) # displaying the occurences"
   ]
  },
  {
   "cell_type": "code",
   "execution_count": null,
   "metadata": {},
   "outputs": [],
   "source": [
    "import ipywidgets as widgets"
   ]
  },
  {
   "cell_type": "markdown",
   "metadata": {},
   "source": [
    "Graph: scatter diagram of the net migration and the year"
   ]
  },
  {
   "cell_type": "markdown",
   "metadata": {},
   "source": [
    "In the cell below, we have used queries to filter the dataframe and then plot a scatter diagram of the number of females migrating per year across different age groups. The graph has been made interactive using ipywidgets. We added a dropdown list of all the years and we chose to plot a scatter diagram as it can clearly be seen in which years and in which age groups the net migration was positive or negative. "
   ]
  },
  {
   "cell_type": "code",
   "execution_count": null,
   "metadata": {},
   "outputs": [],
   "source": [
    "\n",
    "\n",
    "def scatterPlot (year) :\n",
    "    # query to filter all female migration in scotland by year (argument)\n",
    "    toPlot = (df['Sex'] == 'Female') & (df['DateCode'] == year)\n",
    "    # filtering the dataset as a result of the query above\n",
    "    filtered_df = df[toPlot]\n",
    "    # plotting a scatter diagram with the columns\n",
    "    filtered_df.plot.scatter(x= 'Value', y = 'Age', c = 'DarkBlue')\n",
    "    # adding labels to our plot\n",
    "    plt.ylabel('Age')\n",
    "    plt.xlabel('Value')\n",
    "    plt.title('Net migration in Scotland for females of different ages between 2002-2019')\n",
    "    plt.show()\n",
    "    \n",
    "# making the widget\n",
    "dropDown = widgets.Dropdown  (  options = sorted(df['DateCode'].unique()),\n",
    "                                value = 2002,\n",
    "                                description = 'Year: ',\n",
    "                                disabled = False\n",
    "                                )\n",
    "# defining the interaction\n",
    "widgets.interact(scatterPlot, year = dropDown)\n"
   ]
  },
  {
   "cell_type": "markdown",
   "metadata": {},
   "source": [
    "Groupby and 3D plots"
   ]
  },
  {
   "cell_type": "code",
   "execution_count": null,
   "metadata": {},
   "outputs": [],
   "source": [
    "from plot3d import flatten, generate_plot"
   ]
  },
  {
   "cell_type": "markdown",
   "metadata": {},
   "source": [
    "In the cell below, we used groupby to group the migration by year and region. The 'FeatureCode' column represents a region"
   ]
  },
  {
   "cell_type": "code",
   "execution_count": null,
   "metadata": {},
   "outputs": [],
   "source": [
    "# migration data for every council in scotland\n",
    "featureCode_dateCode = df.groupby(['FeatureCode','DateCode']).Value.unique()\n",
    "featureCode_dateCode_df = flatten(featureCode_dateCode, \"FeatureCode\", \"DateCode\",\"Value\")\n"
   ]
  },
  {
   "cell_type": "markdown",
   "metadata": {},
   "source": [
    "In the cell below, we add all the values across different sexes and age groups for each region and every year. We store this data in a different column after dropping the column which had all the values stored in an array. Storing them as integers in a different column allows us to plot them in a 3D plot easily. "
   ]
  },
  {
   "cell_type": "code",
   "execution_count": null,
   "metadata": {
    "tags": []
   },
   "outputs": [],
   "source": [
    "values = [] # stores the sum of all the values in a specific year for a refion in this array\n",
    "# loop through to find the column\n",
    "for column in featureCode_dateCode_df :\n",
    "    if(column == 'Value') :\n",
    "        # loop through the arrays in the column: 'Value'\n",
    "        for data in featureCode_dateCode_df['Value']:\n",
    "            sum = 0 # variable to store the sum of the array\n",
    "            # loop through values in the array\n",
    "            for i in range(0,len(data)) :\n",
    "                sum += data[i]\n",
    "            values.extend([sum]) # add sum to the values array\n",
    "# remove the column which had migration data as array\n",
    "featureCode_dateCode_df = featureCode_dateCode_df.drop(columns = ['Value'])\n",
    "# add values[] which has the sums stored\n",
    "featureCode_dateCode_df['Values'] = values\n",
    "# display the current dataframe\n",
    "featureCode_dateCode_df\n"
   ]
  },
  {
   "cell_type": "markdown",
   "metadata": {},
   "source": [
    "In the final cell, we produce a 3D plot of the dataframe produced after using groupby"
   ]
  },
  {
   "cell_type": "code",
   "execution_count": null,
   "metadata": {},
   "outputs": [],
   "source": [
    "# generate plot with the x-axis having the regions, y-axis having the year and the z-axis with the values\n",
    "generate_plot(\"Records by FeatureCode and DateCode\", featureCode_dateCode_df, \"FeatureCode\", \"DateCode\", \"Values\")"
   ]
  },
  {
   "cell_type": "markdown",
   "metadata": {},
   "source": [
    "### Conclusion\n",
    "The analysis of the additional data set has mostly been completed. We haven't analysed using maps in this data set due to time constraints. If we had more time, we would have analysed this dataset using maps and improved the display of the final 3D plot. "
   ]
  }
 ],
 "metadata": {
  "kernelspec": {
   "display_name": "Python 3",
   "language": "python",
   "name": "python3"
  },
  "language_info": {
   "codemirror_mode": {
    "name": "ipython",
    "version": 3
   },
   "file_extension": ".py",
   "mimetype": "text/x-python",
   "name": "python",
   "nbconvert_exporter": "python",
   "pygments_lexer": "ipython3",
   "version": "3.8.5"
  },
  "metadata": {
   "interpreter": {
    "hash": "684b1123683431d89d3bfe9a89cc763215f4b8cd94b4aba1fb40ad45ff7c8b41"
   }
  }
 },
 "nbformat": 4,
 "nbformat_minor": 2
}
